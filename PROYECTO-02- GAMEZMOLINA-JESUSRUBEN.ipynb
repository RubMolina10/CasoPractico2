{
 "cells": [
  {
   "cell_type": "markdown",
   "metadata": {},
   "source": []
  },
  {
   "cell_type": "markdown",
   "metadata": {},
   "source": [
    "# Caso Practico 2\n",
    "# Caso Practico: CLEANED\n",
    "Modo Basico"
   ]
  },
  {
   "cell_type": "code",
   "execution_count": 3,
   "metadata": {},
   "outputs": [],
   "source": [
    "##Librerias \n",
    "import numpy as np\n",
    "import pandas as pd\n",
    "import datetime as dt"
   ]
  },
  {
   "cell_type": "markdown",
   "metadata": {},
   "source": [
    " Al ejecutar tu análisis exploratorio, describe el número de columnas y filas que encuentras, en cuáles encuentras valores nulos o perdidos y cuántos,"
   ]
  },
  {
   "cell_type": "code",
   "execution_count": null,
   "metadata": {},
   "outputs": [],
   "source": [
    "#Traemos el dataset de cleaned para imprimir la tabla com los valores que contiene aca una de ella \n",
    "online = pd.read_csv('cleaned.csv')\n",
    "online.head()\n",
    "\n"
   ]
  },
  {
   "cell_type": "code",
   "execution_count": null,
   "metadata": {},
   "outputs": [],
   "source": [
    "#Numero de filas y columnas que cuenta el data set, y cuantos son nulos y perdidos\n",
    "print('El numero de filas es: ', online.shape[0])\n",
    "print('El numero de columnas es: ', online.shape[1])\n",
    "#Valores Nulos y valores perdidos\n",
    "online.isna().any()"
   ]
  },
  {
   "cell_type": "markdown",
   "metadata": {},
   "source": [
    "Eliminar valores perdidos con .dropna"
   ]
  },
  {
   "cell_type": "code",
   "execution_count": 21,
   "metadata": {},
   "outputs": [
    {
     "data": {
      "text/plain": [
       "0"
      ]
     },
     "execution_count": 21,
     "metadata": {},
     "output_type": "execute_result"
    }
   ],
   "source": [
    "#Valores Nulos y valores perdidos\n",
    "online.isna().any().sum()"
   ]
  },
  {
   "cell_type": "code",
   "execution_count": null,
   "metadata": {},
   "outputs": [],
   "source": [
    "#Eliminar valores perdidos o nulos\n",
    "online.dropna(inplace=True)\n",
    "\n",
    "#Verificar y comprobar \n",
    "online.isnull().sum()"
   ]
  },
  {
   "cell_type": "markdown",
   "metadata": {},
   "source": [
    "Calcula la media, máximo, mínimo y desviación estándar de las columnas con valores numéricos"
   ]
  },
  {
   "cell_type": "code",
   "execution_count": null,
   "metadata": {},
   "outputs": [],
   "source": [
    "#Estas funciones nos permiten obtener los valores que nos pide el problema\n",
    "online.mean()\n",
    "online.max()\n",
    "online.min()\n",
    "online.std()"
   ]
  },
  {
   "cell_type": "markdown",
   "metadata": {},
   "source": [
    "Si encuentras un valor que no tenga lógica, es decir valores negativos en columnas donde no deberían haber, elimínalos. "
   ]
  },
  {
   "cell_type": "code",
   "execution_count": null,
   "metadata": {},
   "outputs": [],
   "source": [
    "#Opción A\n",
    "online = online[online.track_id == \"Nan\"]\n",
    "online.describe()\n",
    "\n",
    "#Eliminar Valores raros\n",
    "#Eliminar valores perdidos o nulos\n",
    "online.dropna(inplace=True)\n",
    "\n",
    "#Verificar y comprobar \n",
    "online.isnull().sum()\n"
   ]
  },
  {
   "cell_type": "markdown",
   "metadata": {},
   "source": [
    "#Opción C\n",
    "online['VisitanteID'].nunique()"
   ]
  }
 ],
 "metadata": {
  "kernelspec": {
   "display_name": "Python 3.7.11 ('ChatBot')",
   "language": "python",
   "name": "python3"
  },
  "language_info": {
   "codemirror_mode": {
    "name": "ipython",
    "version": 3
   },
   "file_extension": ".py",
   "mimetype": "text/x-python",
   "name": "python",
   "nbconvert_exporter": "python",
   "pygments_lexer": "ipython3",
   "version": "3.7.11"
  },
  "orig_nbformat": 4,
  "vscode": {
   "interpreter": {
    "hash": "1e730a5075f2e0a8154de301382f906be6198436197c58f4a371511efb3a7a1f"
   }
  }
 },
 "nbformat": 4,
 "nbformat_minor": 2
}
